{
 "cells": [
  {
   "cell_type": "code",
   "execution_count": null,
   "id": "468d1e18",
   "metadata": {},
   "outputs": [],
   "source": [
    "import gym\n",
    "from gym.wrappers import AtariPreprocessing, FrameStack\n",
    "from stable_baselines3 import DQN\n",
    "\n",
    "env = AtariPreprocessing(env, frame_skip=1)\n",
    "env = FrameStack(env, 4)\n",
    "env = RecordVideo(env, './video', episode_trigger=lambda x: x % 1000 == 0)\n",
    "model = DQN(\"CnnPolicy\", env, verbose=1, buffer_size=250_000)\n",
    "model.learn(total_timesteps=50_000, log_interval=4)\n",
    "model.save(\"dqn_breakout\")\n",
    "\n",
    "del model # remove to demonstrate saving and loading\n",
    "\n",
    "model = DQN.load(\"dqn_breakout\")\n",
    "\n",
    "obs = env.reset()\n",
    "while True:\n",
    "    action, _states = model.predict(obs, deterministic=True)\n",
    "    obs, reward, done, info = env.step(action)\n",
    "#     env.render()\n",
    "    if done:\n",
    "        break"
   ]
  }
 ],
 "metadata": {
  "kernelspec": {
   "display_name": "Python 3 (ipykernel)",
   "language": "python",
   "name": "python3"
  },
  "language_info": {
   "codemirror_mode": {
    "name": "ipython",
    "version": 3
   },
   "file_extension": ".py",
   "mimetype": "text/x-python",
   "name": "python",
   "nbconvert_exporter": "python",
   "pygments_lexer": "ipython3",
   "version": "3.10.4"
  }
 },
 "nbformat": 4,
 "nbformat_minor": 5
}
